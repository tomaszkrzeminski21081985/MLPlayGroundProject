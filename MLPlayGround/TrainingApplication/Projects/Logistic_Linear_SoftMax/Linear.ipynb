{
 "cells": [
  {
   "cell_type": "code",
   "execution_count": null,
   "metadata": {},
   "outputs": [],
   "source": [
    "# Regresja liniowa jest używana do przewidywania wartości ciągłych.\n",
    "# Regresja logistyczna jest używana do klasyfikacji binarnej.\n",
    "# Regresja softmax jest używana do klasyfikacji wieloklasowej."
   ]
  },
  {
   "cell_type": "code",
   "execution_count": 6,
   "metadata": {},
   "outputs": [],
   "source": [
    "from sklearn.linear_model import SGDRegressor\n",
    "from sklearn.linear_model import LinearRegression, SGDRegressor\n",
    "from sklearn.datasets import make_regression\n",
    "from sklearn.model_selection import train_test_split\n",
    "import numpy as np\n",
    "np.random.seed(42)  # aby wyniki były odtwarzalne\n",
    "m = 100 \n"
   ]
  },
  {
   "cell_type": "code",
   "execution_count": 4,
   "metadata": {},
   "outputs": [],
   "source": [
    "X = 2 * np.random.rand(m, 1)  # wektor kolumnowy\n",
    "y = 4 + 3 * X + np.random.randn(m, 1)"
   ]
  },
  {
   "cell_type": "code",
   "execution_count": 5,
   "metadata": {},
   "outputs": [
    {
     "name": "stdout",
     "output_type": "stream",
     "text": [
      "[4.21278812]\n",
      "[2.77270267]\n"
     ]
    }
   ],
   "source": [
    "sgd_reg = SGDRegressor(max_iter=1000, tol=1e-5, penalty=None, eta0=0.01,\n",
    "                       n_iter_no_change=100, random_state=42)\n",
    "sgd_reg.fit(X, y.ravel())\n",
    "print(sgd_reg.intercept_)\n",
    "print(sgd_reg.coef_)"
   ]
  },
  {
   "cell_type": "code",
   "execution_count": null,
   "metadata": {},
   "outputs": [
    {
     "name": "stdout",
     "output_type": "stream",
     "text": [
      "OLS: 0.9999998163920922\n",
      "SGD: 0.9999994708835466\n"
     ]
    },
    {
     "ename": "TypeError",
     "evalue": "LinearRegression.__init__() got an unexpected keyword argument 'solver'",
     "output_type": "error",
     "traceback": [
      "\u001b[1;31m---------------------------------------------------------------------------\u001b[0m",
      "\u001b[1;31mTypeError\u001b[0m                                 Traceback (most recent call last)",
      "Cell \u001b[1;32mIn[12], line 18\u001b[0m\n\u001b[0;32m     15\u001b[0m \u001b[38;5;28mprint\u001b[39m(\u001b[38;5;124m\"\u001b[39m\u001b[38;5;124mSGD:\u001b[39m\u001b[38;5;124m\"\u001b[39m, sgd\u001b[38;5;241m.\u001b[39mscore(X_test, y_test))\n\u001b[0;32m     17\u001b[0m \u001b[38;5;66;03m# Użyjmy SVD\u001b[39;00m\n\u001b[1;32m---> 18\u001b[0m svd \u001b[38;5;241m=\u001b[39m \u001b[43mLinearRegression\u001b[49m\u001b[43m(\u001b[49m\u001b[43msolver\u001b[49m\u001b[38;5;241;43m=\u001b[39;49m\u001b[38;5;124;43m\"\u001b[39;49m\u001b[38;5;124;43mlstsq\u001b[39;49m\u001b[38;5;124;43m\"\u001b[39;49m\u001b[43m)\u001b[49m\n\u001b[0;32m     19\u001b[0m svd\u001b[38;5;241m.\u001b[39mfit(X_train, y_train)\n\u001b[0;32m     20\u001b[0m \u001b[38;5;28mprint\u001b[39m(\u001b[38;5;124m\"\u001b[39m\u001b[38;5;124mSVD:\u001b[39m\u001b[38;5;124m\"\u001b[39m, svd\u001b[38;5;241m.\u001b[39mscore(X_test, y_test))\n",
      "\u001b[1;31mTypeError\u001b[0m: LinearRegression.__init__() got an unexpected keyword argument 'solver'"
     ]
    }
   ],
   "source": [
    "# Generujmy przykładowy zestaw danych\n",
    "X, y = make_regression(n_samples=100, n_features=10, noise=0.1)\n",
    "\n",
    "# Podzielmy zestaw danych na zbiór treningowy i testowy\n",
    "X_train, X_test, y_train, y_test = train_test_split(X, y, test_size=0.2, random_state=42)\n",
    "\n",
    "# Użyjmy OLS\n",
    "ols = LinearRegression()\n",
    "ols.fit(X_train, y_train)\n",
    "print(\"OLS:\", ols.score(X_test, y_test))\n",
    "\n",
    "# Użyjmy SGD\n",
    "sgd = SGDRegressor(loss=\"squared_error\", max_iter=1000, tol=1e-3)\n",
    "sgd.fit(X_train, y_train)\n",
    "print(\"SGD:\", sgd.score(X_test, y_test))\n",
    "\n",
    "#"
   ]
  },
  {
   "cell_type": "code",
   "execution_count": null,
   "metadata": {},
   "outputs": [],
   "source": [
    "# Ordinary Least Squares (OLS):\n",
    "# Użyj, gdy:\n",
    "# Masz mały lub średni rozmiar zestawu danych.\n",
    "# Chcesz uzyskać dokładne wyniki, ale nie masz ograniczeń czasowych.\n",
    "# Nie masz problemu z wielokolliniarnością (wysokim współczynnikiem wariancji) w danych.\n",
    "# Unikaj, gdy:\n",
    "# Masz bardzo duży rozmiar zestawu danych (ponieważ OLS może być wolny).\n",
    "# Masz problemy z wielokolliniarnością w danych.\n",
    "# Stochastic Gradient Descent (SGD):\n",
    "# Użyj, gdy:\n",
    "# Masz bardzo duży rozmiar zestawu danych (SGD jest szybszy niż OLS).\n",
    "# Chcesz uzyskać szybkie wyniki, ale nie masz wymagań co do dokładności.\n",
    "# Masz problemy z wielokolliniarnością w danych (SGD jest bardziej odporny na to).\n",
    "# Unikaj, gdy:\n",
    "# Masz mały lub średni rozmiar zestawu danych (SGD może być mniej dokładny niż OLS).\n",
    "# Chcesz uzyskać dokładne wyniki (SGD może być mniej dokładny niż OLS).\n",
    "# Mini-batch Gradient Descent:\n",
    "# Użyj, gdy:\n",
    "# Masz duży rozmiar zestawu danych, ale nie tak duży, aby użyć SGD.\n",
    "# Chcesz uzyskać szybkie wyniki, ale nie masz wymagań co do dokładności.\n",
    "# Masz problemy z wielokolliniarnością w danych (mini-batch GD jest bardziej odporny na to).\n",
    "# Unikaj, gdy:\n",
    "# Masz mały lub średni rozmiar zestawu danych (mini-batch GD może być mniej dokładny niż OLS).\n",
    "# Chcesz uzyskać dokładne wyniki (mini-batch GD może być mniej dokładny niż OLS).\n",
    "# Singular Value Decomposition (SVD):\n",
    "# Użyj, gdy:\n",
    "# Masz problemy z wielokolliniarnością w danych (SVD jest bardziej stabilny niż OLS).\n",
    "# Chcesz uzyskać dokładne wyniki, ale nie masz ograniczeń czasowych.\n",
    "# Masz mały lub średni rozmiar zestawu danych.\n",
    "# Unikaj, gdy:\n",
    "# Masz bardzo duży rozmiar zestawu danych (SVD może być wolny).\n",
    "# Nie masz problemu z wielokolliniarnością w danych (SVD może być mniej dokładny niż OLS)."
   ]
  }
 ],
 "metadata": {
  "kernelspec": {
   "display_name": "Python 3",
   "language": "python",
   "name": "python3"
  },
  "language_info": {
   "codemirror_mode": {
    "name": "ipython",
    "version": 3
   },
   "file_extension": ".py",
   "mimetype": "text/x-python",
   "name": "python",
   "nbconvert_exporter": "python",
   "pygments_lexer": "ipython3",
   "version": "3.11.3"
  }
 },
 "nbformat": 4,
 "nbformat_minor": 2
}
